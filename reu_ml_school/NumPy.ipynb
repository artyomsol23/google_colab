{
  "nbformat": 4,
  "nbformat_minor": 0,
  "metadata": {
    "colab": {
      "provenance": [],
      "toc_visible": true
    },
    "kernelspec": {
      "name": "python3",
      "display_name": "Python 3"
    },
    "language_info": {
      "name": "python"
    }
  },
  "cells": [
    {
      "cell_type": "markdown",
      "source": [
        "# Numpy (Numeric Python) - библиотека для математических вычислений"
      ],
      "metadata": {
        "id": "0l-QwHR5lka6"
      }
    },
    {
      "cell_type": "markdown",
      "source": [
        "Если коротко - это одна из самых базовых библиотек в современном анализе данных на Python, так как с помощью нее можно быстрее и проще обрабатывать данные.\n",
        "\n",
        "Быстрее за счет того, что основная структура данных - быстрые массивы. Проще -  за счет того, что можно использовать матричные операции, что позволяет избежать циклов, а также многое другое.\n",
        "\n",
        "Поехали!"
      ],
      "metadata": {
        "id": "z4Hb4TsbrMeG"
      }
    },
    {
      "cell_type": "markdown",
      "source": [
        "### 1. Установка и культура использования"
      ],
      "metadata": {
        "id": "Cr0vXoXZl4Uk"
      }
    },
    {
      "cell_type": "markdown",
      "source": [
        "Numpy - это библиотека, а значит пакет, который можно импортировать. Сделать это можно **тремя** способами:"
      ],
      "metadata": {
        "id": "_DLKMFv1mJAb"
      }
    },
    {
      "cell_type": "code",
      "execution_count": null,
      "metadata": {
        "colab": {
          "base_uri": "https://localhost:8080/"
        },
        "id": "Dj40BVaUlFMU",
        "outputId": "17d3f6e2-7ca5-42df-ea4a-2cf494037285"
      },
      "outputs": [
        {
          "output_type": "execute_result",
          "data": {
            "text/plain": [
              "array([1, 2, 3])"
            ]
          },
          "metadata": {},
          "execution_count": 2
        }
      ],
      "source": [
        "# 1 можно просто импортировать сам пакет и тогда перед каждым вызовом команды необходимо писать название пакета\n",
        "import numpy\n",
        "\n",
        "# пример\n",
        "numpy.array([1,2,3])"
      ]
    },
    {
      "cell_type": "code",
      "source": [
        "# 2 можно импортировать пакет в текущее окружение и тогда таскать 5 букв n u m p y не нужно!\n",
        "# но лучше так не делать, потому что библиотека большая и это загрузит память\n",
        "from numpy import *\n",
        "\n",
        "# пример\n",
        "array([1,2,3])"
      ],
      "metadata": {
        "colab": {
          "base_uri": "https://localhost:8080/"
        },
        "id": "z4a7lp7hmRWs",
        "outputId": "0637792f-46da-4543-8d01-65e9f8a4e5a0"
      },
      "execution_count": null,
      "outputs": [
        {
          "output_type": "execute_result",
          "data": {
            "text/plain": [
              "array([1, 2, 3])"
            ]
          },
          "metadata": {},
          "execution_count": 1
        }
      ]
    },
    {
      "cell_type": "code",
      "source": [
        "# 3 но мы рекомендуем использовать следующий способ: импортировать пакет и таскать за собой всего две буквы np\n",
        "# это повысит читаемость вашего кода - будет ясно, что вы используете встроенную функцию пакета numpy, а не какую-то самописную\n",
        "# о поведении которой еще надо догадаться\n",
        "\n",
        "import numpy as np\n",
        "\n",
        "# пример\n",
        "np.array([1,2,3])"
      ],
      "metadata": {
        "colab": {
          "base_uri": "https://localhost:8080/"
        },
        "id": "1lln-zsNmOcw",
        "outputId": "3e8655d8-20e1-484e-c521-477c15f0aca7"
      },
      "execution_count": null,
      "outputs": [
        {
          "output_type": "execute_result",
          "data": {
            "text/plain": [
              "array([1, 2, 3])"
            ]
          },
          "metadata": {},
          "execution_count": 3
        }
      ]
    },
    {
      "cell_type": "markdown",
      "source": [
        "### 2. Почему Numpy? (подводка к массивам)"
      ],
      "metadata": {
        "id": "BZP04aekmaBs"
      }
    },
    {
      "cell_type": "markdown",
      "source": [
        "В чистом Python нет массивов, но это не мешает программистам внедрять их. Операции со списками в Python долгие и не гибкие для задач анализа данных.\n",
        "\n",
        "Numpy взялся решить эту проблему. Основная структура данных в numpy - как раз массив (numpy.array - где-то вы эту команду уже видели, не так ли?)\n",
        "\n",
        "В чем numpy.array красавчик:\n",
        "* как и вся библиотека numpy он написан на С++, что выделяет операции с ним по скорости\n",
        "* numpy.array позволяет представлять данные в матричном виде, что позволяет реализовать матричные операции (что быстрее циклов)"
      ],
      "metadata": {
        "id": "Bax2Wxe0xwoT"
      }
    },
    {
      "cell_type": "markdown",
      "source": [
        "Давайте убедимся в этом!"
      ],
      "metadata": {
        "id": "TUHLgoiUzPXN"
      }
    },
    {
      "cell_type": "code",
      "source": [
        "%timeit range(10000)     # обычный range в python\n",
        "%timeit np.arange(10000) # range из numpy-массива"
      ],
      "metadata": {
        "colab": {
          "base_uri": "https://localhost:8080/"
        },
        "id": "jYGUwocmzUjX",
        "outputId": "df11d91e-7881-431d-c4c1-df7c3c80a597"
      },
      "execution_count": null,
      "outputs": [
        {
          "output_type": "stream",
          "name": "stdout",
          "text": [
            "The slowest run took 9.17 times longer than the fastest. This could mean that an intermediate result is being cached.\n",
            "1000000 loops, best of 5: 234 ns per loop\n",
            "The slowest run took 26.06 times longer than the fastest. This could mean that an intermediate result is being cached.\n",
            "100000 loops, best of 5: 8.05 µs per loop\n"
          ]
        }
      ]
    },
    {
      "cell_type": "markdown",
      "source": [
        "Ну а теперь идем изучать дальше)"
      ],
      "metadata": {
        "id": "IwcBRoDp1typ"
      }
    },
    {
      "cell_type": "markdown",
      "source": [
        "### 3. Начинаем работать с Numpy-массивом! наконец-то)"
      ],
      "metadata": {
        "id": "aZrgYhKg15uO"
      }
    },
    {
      "cell_type": "markdown",
      "source": [
        "3.1. Cоздать numpy-массив можно с заранее определенным типом данных"
      ],
      "metadata": {
        "id": "RZsh8n_P2zO0"
      }
    },
    {
      "cell_type": "code",
      "source": [
        "a = np.array([1, 4, 5, 8], dtype=float)\n",
        "a"
      ],
      "metadata": {
        "colab": {
          "base_uri": "https://localhost:8080/"
        },
        "id": "gfQ_UYj02W7i",
        "outputId": "d799858f-fa2e-46c7-f8ec-d39324670f4d"
      },
      "execution_count": null,
      "outputs": [
        {
          "output_type": "execute_result",
          "data": {
            "text/plain": [
              "array([1., 4., 5., 8.])"
            ]
          },
          "metadata": {},
          "execution_count": 5
        }
      ]
    },
    {
      "cell_type": "code",
      "source": [
        "a.dtype"
      ],
      "metadata": {
        "colab": {
          "base_uri": "https://localhost:8080/"
        },
        "id": "M8z5Jj884OoW",
        "outputId": "1ce75911-942c-4682-f88b-1f020b9db84c"
      },
      "execution_count": null,
      "outputs": [
        {
          "output_type": "execute_result",
          "data": {
            "text/plain": [
              "dtype('float64')"
            ]
          },
          "metadata": {},
          "execution_count": 6
        }
      ]
    },
    {
      "cell_type": "code",
      "source": [
        "b = np.array([1, 4, 5, 8], dtype=str)\n",
        "b"
      ],
      "metadata": {
        "colab": {
          "base_uri": "https://localhost:8080/"
        },
        "id": "vRFRR5fx2rnr",
        "outputId": "4843954f-a67d-4611-d5d6-bb0e31e3816b"
      },
      "execution_count": null,
      "outputs": [
        {
          "output_type": "execute_result",
          "data": {
            "text/plain": [
              "array(['1', '4', '5', '8'], dtype='<U1')"
            ]
          },
          "metadata": {},
          "execution_count": 7
        }
      ]
    },
    {
      "cell_type": "code",
      "source": [
        "b.dtype # да, вот так странно помечается string"
      ],
      "metadata": {
        "colab": {
          "base_uri": "https://localhost:8080/"
        },
        "id": "4kcZGUxI4P3l",
        "outputId": "1f30b140-a309-4c47-8f4b-0efd8c6089e9"
      },
      "execution_count": null,
      "outputs": [
        {
          "output_type": "execute_result",
          "data": {
            "text/plain": [
              "dtype('<U1')"
            ]
          },
          "metadata": {},
          "execution_count": 8
        }
      ]
    },
    {
      "cell_type": "markdown",
      "source": [
        "#### Вопрос 1"
      ],
      "metadata": {
        "id": "1D3PKEV0NojM"
      }
    },
    {
      "cell_type": "markdown",
      "source": [
        "Узнай, почему string из последнего примера выше помечается как U1. Сначала попробуй догадаться сам, а потом погугли)"
      ],
      "metadata": {
        "id": "JIalmPlrNsB1"
      }
    },
    {
      "cell_type": "markdown",
      "source": [
        "#### Задача 1"
      ],
      "metadata": {
        "id": "FEt-m2eMNzjQ"
      }
    },
    {
      "cell_type": "markdown",
      "source": [
        "Вам дан массив, который содержит данные о площади в квадратных футах для домов на определенной улице.\n",
        "На этой улице недавно был построен новый дом.\n",
        "Измените программу, чтобы она принимала значения для нового дома в качестве входных данных, добавляла его в массив и выводила массив, отсортированный в возрастающем порядке."
      ],
      "metadata": {
        "id": "4c9L4j2cN6OB"
      }
    },
    {
      "cell_type": "code",
      "source": [
        "data = np.array([1000, 2500, 1400, 1800, 900, 4200, 2200, 1900, 3500])\n",
        "\n",
        "# put your code here"
      ],
      "metadata": {
        "id": "eZ_USPoCODzw"
      },
      "execution_count": null,
      "outputs": []
    },
    {
      "cell_type": "markdown",
      "source": [
        "А теперь познакомимся с нашим массивом `а` поближе..."
      ],
      "metadata": {
        "id": "ldmmaXj13Cz1"
      }
    },
    {
      "cell_type": "code",
      "source": [
        "# какой длины ты?\n",
        "\n",
        "len(a) # внимание, работает только с одномерными этот len"
      ],
      "metadata": {
        "colab": {
          "base_uri": "https://localhost:8080/"
        },
        "id": "3qBgQyq83NkO",
        "outputId": "098fb00a-b827-4db1-a23f-362b0c399472"
      },
      "execution_count": null,
      "outputs": [
        {
          "output_type": "execute_result",
          "data": {
            "text/plain": [
              "4"
            ]
          },
          "metadata": {},
          "execution_count": 9
        }
      ]
    },
    {
      "cell_type": "code",
      "source": [
        "# что у тебя на втором месте в массиве?\n",
        "\n",
        "a[1]"
      ],
      "metadata": {
        "colab": {
          "base_uri": "https://localhost:8080/"
        },
        "id": "RTiZQh223Y85",
        "outputId": "56f2caae-2e6b-44e0-aa62-691124b3808a"
      },
      "execution_count": null,
      "outputs": [
        {
          "output_type": "execute_result",
          "data": {
            "text/plain": [
              "4.0"
            ]
          },
          "metadata": {},
          "execution_count": 10
        }
      ]
    },
    {
      "cell_type": "code",
      "source": [
        "# че-то не нравится мне этот элемент, давай заменим его!\n",
        "\n",
        "a[1] = 5\n",
        "a"
      ],
      "metadata": {
        "colab": {
          "base_uri": "https://localhost:8080/"
        },
        "id": "5lKpO_Lh4AIs",
        "outputId": "df8aaaa5-ab58-4260-d419-7ceacc1b91df"
      },
      "execution_count": null,
      "outputs": [
        {
          "output_type": "execute_result",
          "data": {
            "text/plain": [
              "array([1., 5., 5., 8.])"
            ]
          },
          "metadata": {},
          "execution_count": 11
        }
      ]
    },
    {
      "cell_type": "code",
      "source": [
        "# покажи все элементы до 3го (3 - это позиция, отсчет с 0)\n",
        "\n",
        "a[:2]"
      ],
      "metadata": {
        "colab": {
          "base_uri": "https://localhost:8080/"
        },
        "id": "3iFErLW33lhU",
        "outputId": "4a1d4520-89bc-4a3d-b5af-5492dd7af830"
      },
      "execution_count": null,
      "outputs": [
        {
          "output_type": "execute_result",
          "data": {
            "text/plain": [
              "array([1., 5.])"
            ]
          },
          "metadata": {},
          "execution_count": 12
        }
      ]
    },
    {
      "cell_type": "code",
      "source": [
        "# а давай умножим каждый из твоих элементов на число?\n",
        "\n",
        "a * 2 # пс, то же самое работает с другими арифметическими операциями"
      ],
      "metadata": {
        "colab": {
          "base_uri": "https://localhost:8080/"
        },
        "id": "GwislkEs3xHo",
        "outputId": "11ebeea9-1da3-4c2d-d2a5-0f2786f9ead1"
      },
      "execution_count": null,
      "outputs": [
        {
          "output_type": "execute_result",
          "data": {
            "text/plain": [
              "array([ 2., 10., 10., 16.])"
            ]
          },
          "metadata": {},
          "execution_count": 13
        }
      ]
    },
    {
      "cell_type": "markdown",
      "source": [
        "3.2. Если мы хотим работать с матрицами, то можем создать многомерный массив!"
      ],
      "metadata": {
        "id": "FXh34eXJ23sV"
      }
    },
    {
      "cell_type": "code",
      "source": [
        "# возьмем новый массив а, чтобы показать другой способ создания массива:\n",
        "a = np.array(range(10), dtype=float)\n",
        "a"
      ],
      "metadata": {
        "colab": {
          "base_uri": "https://localhost:8080/"
        },
        "id": "W2EimSS423F-",
        "outputId": "c77510f2-b10d-42f0-8bdf-abf382e559c6"
      },
      "execution_count": null,
      "outputs": [
        {
          "output_type": "execute_result",
          "data": {
            "text/plain": [
              "array([0., 1., 2., 3., 4., 5., 6., 7., 8., 9.])"
            ]
          },
          "metadata": {},
          "execution_count": 14
        }
      ]
    },
    {
      "cell_type": "code",
      "source": [
        "# сделаем из него многомерный - 5 строк, 2 столбца\n",
        "a = a.reshape((5, 2))\n",
        "a"
      ],
      "metadata": {
        "colab": {
          "base_uri": "https://localhost:8080/"
        },
        "id": "vuXRjAvq4yIo",
        "outputId": "59ce95b9-e6c7-4ccb-dc62-aad648860a1c"
      },
      "execution_count": null,
      "outputs": [
        {
          "output_type": "execute_result",
          "data": {
            "text/plain": [
              "array([[0., 1.],\n",
              "       [2., 3.],\n",
              "       [4., 5.],\n",
              "       [6., 7.],\n",
              "       [8., 9.]])"
            ]
          },
          "metadata": {},
          "execution_count": 15
        }
      ]
    },
    {
      "cell_type": "code",
      "source": [
        "# узнаем его размерность\n",
        "a.shape"
      ],
      "metadata": {
        "colab": {
          "base_uri": "https://localhost:8080/"
        },
        "id": "TK-lLHNO5CgV",
        "outputId": "cd4a6798-2545-428f-c92f-0db2cbd293f4"
      },
      "execution_count": null,
      "outputs": [
        {
          "output_type": "execute_result",
          "data": {
            "text/plain": [
              "(5, 2)"
            ]
          },
          "metadata": {},
          "execution_count": 16
        }
      ]
    },
    {
      "cell_type": "code",
      "source": [
        "# получим доступ к элементу (теперь мы должны указывать индекс и по строке и по столбцу)\n",
        "\n",
        "# в левом верхнем углу у нас ....\n",
        "a[0,0]"
      ],
      "metadata": {
        "colab": {
          "base_uri": "https://localhost:8080/"
        },
        "id": "VhhBnxov5Hng",
        "outputId": "ae9db856-721d-40cd-f7ea-8395be841536"
      },
      "execution_count": null,
      "outputs": [
        {
          "output_type": "execute_result",
          "data": {
            "text/plain": [
              "0.0"
            ]
          },
          "metadata": {},
          "execution_count": 17
        }
      ]
    },
    {
      "cell_type": "code",
      "source": [
        "# два или больше массивов можно сконкатенировать при помощи метода concatenate:\n",
        "\n",
        "a = np.array([1,2], float)\n",
        "b = np.array([3,4,5,6], float)\n",
        "c = np.array([7,8,9], float)\n",
        "np.concatenate((a, b, c))"
      ],
      "metadata": {
        "colab": {
          "base_uri": "https://localhost:8080/"
        },
        "id": "nA3_oCvbo42f",
        "outputId": "64d6549c-c3b9-4771-8c48-ed52d49fb8b0"
      },
      "execution_count": null,
      "outputs": [
        {
          "output_type": "execute_result",
          "data": {
            "text/plain": [
              "array([1., 2., 3., 4., 5., 6., 7., 8., 9.])"
            ]
          },
          "metadata": {},
          "execution_count": 18
        }
      ]
    },
    {
      "cell_type": "code",
      "source": [
        "# можно указать ось для конкатенации\n",
        "\n",
        "np.concatenate((a,b), axis=0)"
      ],
      "metadata": {
        "colab": {
          "base_uri": "https://localhost:8080/"
        },
        "id": "rlBm-8-1pS9q",
        "outputId": "77230e1f-9949-486b-9c26-5646d88b28df"
      },
      "execution_count": null,
      "outputs": [
        {
          "output_type": "execute_result",
          "data": {
            "text/plain": [
              "array([1., 2., 3., 4., 5., 6.])"
            ]
          },
          "metadata": {},
          "execution_count": 19
        }
      ]
    },
    {
      "cell_type": "markdown",
      "source": [
        "#### Вопрос 2"
      ],
      "metadata": {
        "id": "BTEVQvESOSC1"
      }
    },
    {
      "cell_type": "markdown",
      "source": [
        "В аргументах метода reshape можно нередко встретить -1. Что это будет значить?"
      ],
      "metadata": {
        "id": "tIlnF8mDOs2S"
      }
    },
    {
      "cell_type": "markdown",
      "source": [
        "#### Задача 2"
      ],
      "metadata": {
        "id": "yxmkKo47O5l7"
      }
    },
    {
      "cell_type": "markdown",
      "source": [
        "Вам дан массив, который отражает занятость мест в кинотеатре. Место, отмеченное 1, занято, а если место отмечено 0, оно является свободным.\n",
        "Однако массив является плоским и одномерным. Преобразуйте его в двумерный массив, который отражает ряды  в зале.\n",
        "Каждый ряд в кинотеатре имеет 5 мест, таким образом, всего 30 мест.  \n",
        "Задайте массиву соответствующую форму и выведите ряд по заданному индексу, который принимается из пользовательского ввода."
      ],
      "metadata": {
        "id": "c5tnIoknO8Wq"
      }
    },
    {
      "cell_type": "code",
      "source": [
        "data = np.array([1, 1, 0, 0, 1, 0, 0, 0, 0, 0, 1, 1, 1, 1, 1, 1, 0, 1, 0, 1, 1, 1, 1, 0, 0, 0, 1, 1, 1, 0])\n",
        "\n",
        "row = int(input())"
      ],
      "metadata": {
        "id": "zcY5f18nPA5v"
      },
      "execution_count": null,
      "outputs": []
    },
    {
      "cell_type": "markdown",
      "source": [
        "### 4. Великий Random"
      ],
      "metadata": {
        "id": "xio-5dgeqb1F"
      }
    },
    {
      "cell_type": "markdown",
      "source": [
        "В numpy есть встроенный модуль random, позволяющий работать с генерацией случайных чисел. Вот парочка удобных комманд"
      ],
      "metadata": {
        "id": "VECwQDJb5ze5"
      }
    },
    {
      "cell_type": "code",
      "source": [
        "# создать случайное вещественное число\n",
        "np.random.randn()"
      ],
      "metadata": {
        "colab": {
          "base_uri": "https://localhost:8080/"
        },
        "id": "pDn_L7Jwqd5t",
        "outputId": "2965dd66-c2ad-431b-86a7-a748ca82a4d3"
      },
      "execution_count": null,
      "outputs": [
        {
          "output_type": "execute_result",
          "data": {
            "text/plain": [
              "-0.0796789098961443"
            ]
          },
          "metadata": {},
          "execution_count": 20
        }
      ]
    },
    {
      "cell_type": "code",
      "source": [
        "# случайное целое число от 1 до 10\n",
        "np.random.randint(1,10)"
      ],
      "metadata": {
        "colab": {
          "base_uri": "https://localhost:8080/"
        },
        "id": "iaaDDatR5_9f",
        "outputId": "8b50e4c7-8ff1-4862-a8ca-582938334449"
      },
      "execution_count": null,
      "outputs": [
        {
          "output_type": "execute_result",
          "data": {
            "text/plain": [
              "4"
            ]
          },
          "metadata": {},
          "execution_count": 21
        }
      ]
    },
    {
      "cell_type": "code",
      "source": [
        "# а что если я хочу целых 4 случайных числа?\n",
        "np.random.randn(4)"
      ],
      "metadata": {
        "colab": {
          "base_uri": "https://localhost:8080/"
        },
        "id": "9dAlOT1-qiC7",
        "outputId": "a81926cf-a0e0-4a0a-9814-2daeb23a9df3"
      },
      "execution_count": null,
      "outputs": [
        {
          "output_type": "execute_result",
          "data": {
            "text/plain": [
              "array([ 0.37829858,  0.36501818, -1.42706391,  0.18425252])"
            ]
          },
          "metadata": {},
          "execution_count": 22
        }
      ]
    },
    {
      "cell_type": "code",
      "source": [
        "# ооооо а что если я хочу матрицу из случайных чисел?\n",
        "np.random.randn(5,3)"
      ],
      "metadata": {
        "colab": {
          "base_uri": "https://localhost:8080/"
        },
        "id": "7vntQratqmSD",
        "outputId": "ed9551a5-3e4a-4d44-9b68-3777d404cec8"
      },
      "execution_count": null,
      "outputs": [
        {
          "output_type": "execute_result",
          "data": {
            "text/plain": [
              "array([[-2.16050946, -0.64261723, -0.14107535],\n",
              "       [-0.11815319,  0.39372004, -2.28778278],\n",
              "       [-0.71250717,  0.4113238 ,  2.44211526],\n",
              "       [-0.96704295,  0.12375245, -2.83081161],\n",
              "       [ 0.63383834, -0.61611172,  1.19322149]])"
            ]
          },
          "metadata": {},
          "execution_count": 23
        }
      ]
    },
    {
      "cell_type": "markdown",
      "source": [
        "### Дополнительные материалы"
      ],
      "metadata": {
        "id": "DCBUcuHzmyvy"
      }
    },
    {
      "cell_type": "markdown",
      "source": [
        "\n",
        "\n",
        "*   Курс по математике в связке с Python, на 2 неделе подробно рассказывается о numpy:\n",
        "https://stepik.org/course/3356/promo\n",
        "\n",
        "*   Курс от МФТИ Python для искуственного интеллекта, в последнем 6 модуле рассказывается про numpy:\n",
        "https://stepik.org/course/110361/promo\n",
        "\n",
        "*  Часовой урок по Numpy на YouTube:\n",
        "https://www.youtube.com/watch?v=IWezobwAC-U&ab_channel=%D0%90%D0%B2%D0%B5%D0%9A%D0%BE%D0%B4%D0%B5%D1%80\n",
        "\n"
      ],
      "metadata": {
        "id": "UucSBsDRm97x"
      }
    }
  ]
}