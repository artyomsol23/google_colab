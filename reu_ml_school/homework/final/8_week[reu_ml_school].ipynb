{
  "nbformat": 4,
  "nbformat_minor": 0,
  "metadata": {
    "colab": {
      "provenance": [],
      "authorship_tag": "ABX9TyMxDApEZyM8n4gUFMpTOSmR",
      "include_colab_link": true
    },
    "kernelspec": {
      "name": "python3",
      "display_name": "Python 3"
    },
    "language_info": {
      "name": "python"
    }
  },
  "cells": [
    {
      "cell_type": "markdown",
      "metadata": {
        "id": "view-in-github",
        "colab_type": "text"
      },
      "source": [
        "<a href=\"https://colab.research.google.com/github/artyomsol23/google_colab/blob/main/my_final_homework%5Breu_ml_school%5D.ipynb\" target=\"_parent\"><img src=\"https://colab.research.google.com/assets/colab-badge.svg\" alt=\"Open In Colab\"/></a>"
      ]
    },
    {
      "cell_type": "code",
      "execution_count": 48,
      "metadata": {
        "id": "kAtBeUgdcXKB"
      },
      "outputs": [],
      "source": [
        "import numpy as np\n",
        "import pandas as pd\n",
        "from sklearn.preprocessing import LabelEncoder\n",
        "from sklearn.ensemble import RandomForestRegressor\n",
        "from sklearn.metrics import mean_squared_error, r2_score, mean_absolute_error\n",
        "from sklearn.model_selection import train_test_split\n",
        "from sklearn.model_selection import GridSearchCV"
      ]
    },
    {
      "cell_type": "code",
      "source": [
        "!git clone https://github.com/artyomsol23/google_colab.git"
      ],
      "metadata": {
        "id": "4kLf_begki5c"
      },
      "execution_count": null,
      "outputs": []
    },
    {
      "cell_type": "code",
      "source": [
        "train_data = pd.read_csv('/content/google_colab/reu_ml_school/final/train.csv')\n",
        "train_data.head(10)"
      ],
      "metadata": {
        "id": "0AeekhxbcaoH"
      },
      "execution_count": null,
      "outputs": []
    },
    {
      "cell_type": "code",
      "source": [
        "train_data.isnull().sum()"
      ],
      "metadata": {
        "id": "AUIFdq6ddPhE"
      },
      "execution_count": null,
      "outputs": []
    },
    {
      "cell_type": "code",
      "source": [
        "train_data.columns"
      ],
      "metadata": {
        "id": "bHd2p_NsdTrD"
      },
      "execution_count": null,
      "outputs": []
    },
    {
      "cell_type": "code",
      "source": [
        "train_data = train_data[['mileage', 'car_id', 'brand', 'transmission', 'price']]"
      ],
      "metadata": {
        "id": "22zFqfyHdXMm"
      },
      "execution_count": 36,
      "outputs": []
    },
    {
      "cell_type": "code",
      "source": [
        "train_data.mileage"
      ],
      "metadata": {
        "id": "AjNJfwPpdaOk"
      },
      "execution_count": null,
      "outputs": []
    },
    {
      "cell_type": "code",
      "source": [
        "train_mileage = train_data['mileage']\n",
        "train_mileage = train_mileage.astype(str).str.replace('[^0-9]', '', regex=True)\n",
        "train_mileage = pd.to_numeric(train_mileage, errors='coerce')\n",
        "train_mileage = train_mileage.fillna(train_mileage.median())\n",
        "train_mileage = train_mileage.astype('int64')\n",
        "train_data['mileage'] = train_mileage\n",
        "\n",
        "print(train_mileage)"
      ],
      "metadata": {
        "id": "HVNUEvandebS"
      },
      "execution_count": null,
      "outputs": []
    },
    {
      "cell_type": "code",
      "source": [
        "train_data.car_id"
      ],
      "metadata": {
        "id": "P6ngXtKLds3P"
      },
      "execution_count": null,
      "outputs": []
    },
    {
      "cell_type": "code",
      "source": [
        "car_id_series = train_data['car_id']\n",
        "sequential_car_id = car_id_series.rank(method='dense')\n",
        "\n",
        "print(sequential_car_id)"
      ],
      "metadata": {
        "id": "IEzqEhIydvo-"
      },
      "execution_count": null,
      "outputs": []
    },
    {
      "cell_type": "code",
      "source": [
        "train_data[\"car_id\"] = sequential_car_id\n",
        "\n",
        "train_data"
      ],
      "metadata": {
        "id": "t796pWTqrE8P"
      },
      "execution_count": null,
      "outputs": []
    },
    {
      "cell_type": "code",
      "source": [
        "train_encoder = LabelEncoder()\n",
        "\n",
        "train_data['brand'] = train_encoder.fit_transform(train_data['brand'])\n",
        "train_data['transmission'] = train_encoder.fit_transform(train_data['transmission'])\n",
        "\n",
        "original_classes = train_encoder.classes_\n",
        "\n",
        "train_data"
      ],
      "metadata": {
        "id": "1gr1zaFrd890"
      },
      "execution_count": null,
      "outputs": []
    },
    {
      "cell_type": "code",
      "source": [
        "test_data = pd.read_csv('/content/google_colab/reu_ml_school/final/test.csv')\n",
        "\n",
        "test_data.head(10)"
      ],
      "metadata": {
        "id": "g41vgkgfmzLf"
      },
      "execution_count": null,
      "outputs": []
    },
    {
      "cell_type": "code",
      "source": [
        "test_data = test_data[['car_id', 'mileage', 'transmission', 'brand']]\n",
        "\n",
        "test_data.isnull().sum()"
      ],
      "metadata": {
        "id": "BjDUmUqheU5U"
      },
      "execution_count": null,
      "outputs": []
    },
    {
      "cell_type": "code",
      "source": [
        "test_mileage = test_data['mileage']\n",
        "test_mileage = test_mileage.astype(str).str.replace('[^0-9]', '', regex=True)\n",
        "test_mileage = pd.to_numeric(test_mileage, errors='coerce')\n",
        "test_mileage = test_mileage.fillna(test_mileage.median())\n",
        "test_mileage = test_mileage.astype('int64')\n",
        "test_data[\"mileage\"] = test_mileage\n",
        "\n",
        "print(test_mileage)"
      ],
      "metadata": {
        "id": "lxOA4wahelQK"
      },
      "execution_count": null,
      "outputs": []
    },
    {
      "cell_type": "code",
      "source": [
        "new_values = {}\n",
        "next_code = len(original_classes)\n",
        "\n",
        "def test_encoder(encoder, column, next_available_code):\n",
        "    global new_values, next_code\n",
        "    encoded = []\n",
        "    current_next_code = next_available_code\n",
        "    local_new_values = {}\n",
        "\n",
        "    for value in column:\n",
        "        try:\n",
        "            encoded.append(encoder.transform([value])[0])\n",
        "        except ValueError:\n",
        "            if value not in new_values and value not in local_new_values:\n",
        "                local_new_values[value] = current_next_code\n",
        "                current_next_code += 1\n",
        "            encoded.append(new_values.get(value, local_new_values.get(value)))\n",
        "\n",
        "    new_values.update(local_new_values)\n",
        "    next_code = current_next_code\n",
        "\n",
        "    return encoded, next_code\n",
        "\n",
        "# test_encoder = train_encoder\n",
        "test_data['brand'], next_code = test_encoder(train_encoder, test_data['brand'], next_code)\n",
        "test_data['transmission'], _ = test_encoder(train_encoder, test_data['transmission'], next_code)\n",
        "\n",
        "test_data"
      ],
      "metadata": {
        "id": "3WEWVE4gep7S"
      },
      "execution_count": null,
      "outputs": []
    },
    {
      "cell_type": "code",
      "source": [
        "X_train = train_data.drop(columns=[\"price\"])\n",
        "y_train = np.log1p(train_data[\"price\"])\n",
        "\n",
        "X_train_split, X_val_split, y_train_split, y_val_split = train_test_split(X_train, y_train, test_size=0.2, random_state=42)\n",
        "\n",
        "rf = RandomForestRegressor(random_state=42)\n",
        "\n",
        "params = {\n",
        "    'n_estimators': [200, 300],\n",
        "    'max_depth': [15, 20, None],\n",
        "    'min_samples_split': [3, 5]\n",
        "    }\n",
        "\n",
        "grid_search = GridSearchCV(\n",
        "    rf,\n",
        "    params,\n",
        "    cv=3,\n",
        "    scoring='neg_mean_squared_error',\n",
        "    n_jobs=-1\n",
        "    )\n",
        "grid_search.fit(X_train_split, y_train_split)\n",
        "\n",
        "best_rf = grid_search.best_estimator_\n",
        "\n",
        "val_predictions = best_rf.predict(X_val_split)\n",
        "\n",
        "print('GridSearchCV: ', grid_search.best_params_)"
      ],
      "metadata": {
        "id": "ckWiOGKPevVZ"
      },
      "execution_count": null,
      "outputs": []
    },
    {
      "cell_type": "code",
      "source": [
        "def calculate_rlmse(true_values, predicted_values):\n",
        "    log_true = np.log1p(true_values)\n",
        "    log_pred = np.log1p(predicted_values)\n",
        "    rlmse = np.sqrt(mean_squared_error(log_true, log_pred))\n",
        "\n",
        "    return rlmse\n",
        "\n",
        "r2 = r2_score(y_val_split, val_predictions)\n",
        "mae = mean_absolute_error(y_val_split, val_predictions)\n",
        "mse = mean_squared_error(y_val_split, val_predictions)\n",
        "rlmse = calculate_rlmse(y_val_split, val_predictions)\n",
        "\n",
        "print('R2 Score: ', r2)\n",
        "print('MAE: ', mae)\n",
        "print('MSE: ', mse)\n",
        "print('RLMSE: ', rlmse)"
      ],
      "metadata": {
        "id": "1iVIvNWqvzKp"
      },
      "execution_count": null,
      "outputs": []
    },
    {
      "cell_type": "code",
      "source": [
        "X_train = train_data[['mileage', 'car_id', 'brand', 'transmission']]\n",
        "X_test = test_data[['mileage', 'car_id', 'brand', 'transmission']]\n",
        "\n",
        "print(X_train.columns.tolist())\n",
        "print(X_test.columns.tolist())"
      ],
      "metadata": {
        "id": "8BMPiES29O6_"
      },
      "execution_count": null,
      "outputs": []
    },
    {
      "cell_type": "code",
      "source": [
        "predictions = np.expm1(best_rf.predict(X_test))\n",
        "\n",
        "submission = pd.DataFrame(\n",
        "    {\"car_id\": test_data[\"car_id\"],\n",
        "     \"predicted_price\": predictions})\n",
        "\n",
        "submission.to_csv(\"submission.csv\", index=False)"
      ],
      "metadata": {
        "id": "GFa2FFdxey2B"
      },
      "execution_count": 26,
      "outputs": []
    }
  ]
}
